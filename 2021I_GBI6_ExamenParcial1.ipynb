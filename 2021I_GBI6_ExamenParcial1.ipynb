{
 "cells": [
  {
   "cell_type": "markdown",
   "metadata": {},
   "source": [
    "<img src=\"https://www.ikiam.edu.ec/img/logo-ikiam-grey.png\" width=300 height=240 />\n",
    "\n",
    "# EXAMEN PARCIAL 1\n",
    "\n",
    "## GBI6-2021II: BIOINFORMÁTICA\n",
    "\n",
    "**Sánchez Chicaiza Jefferson Miguel**\n",
    "\n",
    "**15-01-2021**"
   ]
  },
  {
   "cell_type": "markdown",
   "metadata": {},
   "source": [
    "<font color='red'>NO AGREGUE NUEVAS CELDAS, UTILICE ÚNICAMENTE LAS QUE ESTÁN CREADAS</font>"
   ]
  },
  {
   "cell_type": "markdown",
   "metadata": {},
   "source": [
    "# 1. UNIX\n",
    "\n",
    "## Ejercicio 1\n",
    "Luego seleccione la instrucción que permite enlistar el contenido (incluyendo detalles) del directorio test1\n",
    "\n",
    "\n",
    "\n",
    "<img src=\"https://github.com/Jeffo007/Examen_Parcial-1-GBI6/blob/main/.ipynb_checkpoints/Ejemplo1.png?raw=true\" width=600 height=450 />\n",
    "\n",
    "\n",
    "\n",
    "## Ejercicio 2\n",
    "Luego seleccione la instrucción que permite enlistar el contenido (sin detalles) del directorio test1\n",
    "\n",
    "\n",
    "<img src=\"https://raw.githubusercontent.com/Jeffo007/Examen_Parcial-1-GBI6/b9c4814aa9cd397e86ecbf9dec56f4d0606a9459/.ipynb_checkpoints/Ejemplo2.png\" width=600 height=450 />\n",
    "\n",
    "\n",
    "## Ejercicio 3\n",
    "Luego seleccione la instrucción que imprima el número de elementos del directorio test1\n",
    "\n",
    "\n",
    "<img src=\"https://raw.githubusercontent.com/Jeffo007/Examen_Parcial-1-GBI6/b9c4814aa9cd397e86ecbf9dec56f4d0606a9459/.ipynb_checkpoints/Ejemplo3.png\" width=600 height=450 />\n",
    "\n",
    "se evidencia que dentro de la carpeta solo existen 3 archivos\n",
    "\n",
    "## Ejercicio 4\n",
    "\n",
    "Resuelva el ejercicio 1.10.2 Hormone Levels in Baboons. \n",
    "\n",
    "Resuelva el ejercicio en un documento de nombre ejercicio_1102.sh\n",
    "Cargue el documento ejercicio_1102.sh en GitHub utilizando git push. \n",
    "Realice el video explicativo de la resolución ejercicio y guarde en YouTube en formato \"Público\" o \"Unlisted\", y pegue el enlace en el cuaderno de Jupyter.\n"
   ]
  },
  {
   "cell_type": "code",
   "execution_count": 55,
   "metadata": {},
   "outputs": [
    {
     "data": {
      "text/html": [
       "<iframe width=\"560\" height=\"315\" src=\"https://www.youtube.com/embed/_A7-zWKCvVo\" title=\"YouTube video player\" frameborder=\"0\" allow=\"accelerometer; autoplay; clipboard-write; encrypted-media; gyroscope; picture-in-picture\" allowfullscreen></iframe>"
      ],
      "text/plain": [
       "<IPython.core.display.HTML object>"
      ]
     },
     "execution_count": 55,
     "metadata": {},
     "output_type": "execute_result"
    }
   ],
   "source": [
    "# Coloque aquí su video del ejercicio 4\n",
    "from IPython.display import HTML\n",
    "HTML('<iframe width=\"560\" height=\"315\" src=\"https://www.youtube.com/embed/_A7-zWKCvVo\" title=\"YouTube video player\" frameborder=\"0\" allow=\"accelerometer; autoplay; clipboard-write; encrypted-media; gyroscope; picture-in-picture\" allowfullscreen></iframe>')\n"
   ]
  },
  {
   "cell_type": "markdown",
   "metadata": {},
   "source": [
    "\n",
    "\n",
    "## Ejercicio 5\n",
    "Buzzard et al. (2016) recogieron datos sobre el crecimiento de un bosque en Costa Rica. En el archivo Buzzard2015_data.csv encontrará un subconjunto de sus datos, incluyendo información taxonómica, abundancia y biomasa de los árboles.\n",
    "1. Escribe un script que, para un archivo CSV y un número de columna dados, imprima\n",
    "-el nombre de la columna correspondiente;\n",
    "-el número de valores distintos en la columna;\n",
    "-el valor mínimo;\n",
    "-el valor máximo.\n",
    "\n"
   ]
  },
  {
   "cell_type": "code",
   "execution_count": 56,
   "metadata": {},
   "outputs": [
    {
     "data": {
      "text/html": [
       "<iframe width=\"560\" height=\"315\" src=\"https://www.youtube.com/embed/yD21566quac\" title=\"YouTube video player\" frameborder=\"0\" allow=\"accelerometer; autoplay; clipboard-write; encrypted-media; gyroscope; picture-in-picture\" allowfullscreen></iframe>"
      ],
      "text/plain": [
       "<IPython.core.display.HTML object>"
      ]
     },
     "execution_count": 56,
     "metadata": {},
     "output_type": "execute_result"
    }
   ],
   "source": [
    "# Coloque aquí su video del ejercicio 5\n",
    "from IPython.display import HTML\n",
    "HTML('<iframe width=\"560\" height=\"315\" src=\"https://www.youtube.com/embed/yD21566quac\" title=\"YouTube video player\" frameborder=\"0\" allow=\"accelerometer; autoplay; clipboard-write; encrypted-media; gyroscope; picture-in-picture\" allowfullscreen></iframe>')\n",
    "\n"
   ]
  },
  {
   "cell_type": "markdown",
   "metadata": {
    "jp-MarkdownHeadingCollapsed": true,
    "tags": []
   },
   "source": [
    "\n",
    "\n",
    "# 2. CONTROL DE LA VERSIÓN\n",
    "## Pregunta 6\n",
    "1. Cree en GitHub un repositorio de nombre ```GBI6_ExamenParcial1```. \n",
    "2. Cree un archivo ```Readme.md``` que debe tener lo siguiente: \n",
    "- Datos personales\n",
    "- Características del computador\n",
    "- Programas utilizados\n",
    "- Explicación de la data utilizada\n",
    "\n",
    "\n",
    "## Pregunta 7\n",
    "1. Cada vez que resuelva un ejercicio (del 1 al 10), utilizando Git Bash, GitHub Desktop o Atom realice un *git push* con el mensaje: \n",
    "\n",
    "\n",
    "<font color='red'>Apellido Nombre ha resuelto el ejercicio 1</font> % Cambie con sus apellidos y nombres; y con el número de ejercicio que corresponda \n",
    "\n",
    " <font colot=\"black\"> \"Profe lo realice pero para las primeros 3 ejercicios no hice GitPush de cada uno Adjunto capturas de pantalla de las actualizaciones del GitHub Desktop\" </font>\n",
    "\n",
    "2. Coloque aquí las capturas de pantalla para cada git push realizado desde Git Bash, GitHub Desktop o Atom. \n",
    "\n",
    "- Control de versión ejercicio 1\n",
    "\n",
    "<img src=\"https://github.com/Jeffo007/Examen_Parcial-1-GBI6/blob/main/.ipynb_checkpoints/Evidencia%201%20.png?raw=true\" width=600 height=450 />\n",
    "\n",
    "- Control de versión ejercicio 2\n",
    "\n",
    "<img src=\"https://github.com/Jeffo007/Examen_Parcial-1-GBI6/blob/main/.ipynb_checkpoints/Evidencia%202.png?raw=true\" width=600 height=450 />\n",
    "\n",
    "- Control de versión ejercicio 3\n",
    "\n",
    "<img src=\"https://github.com/Jeffo007/Examen_Parcial-1-GBI6/blob/main/.ipynb_checkpoints/Evidencia%203.png?raw=true\" width=600 height=450 />\n",
    "\n",
    "- Control de versión ejercicio 4\n",
    "\n",
    "<img src=\"https://github.com/Jeffo007/Examen_Parcial-1-GBI6/blob/main/.ipynb_checkpoints/Evidencia%204.png?raw=true\" width=600 height=450 />\n",
    "\n",
    "- Control de versión ejercicio 5\n",
    "\n",
    "<img src=\"https://github.com/Jeffo007/Examen_Parcial-1-GBI6/blob/main/.ipynb_checkpoints/Evidencia%205.png?raw=true\" width=600 height=450 />\n",
    "\n",
    "- Control de versión ejercicio 8\n",
    "\n",
    "<img src=\"https://github.com/Jeffo007/Examen_Parcial-1-GBI6/blob/main/.ipynb_checkpoints/Evidencia8.png?raw=true\" width=600 height=450 />\n",
    "\n",
    "- Control de versión ejercicio 9\n",
    "\n",
    "<img src=\"https://github.com/Jeffo007/Examen_Parcial-1-GBI6/blob/main/.ipynb_checkpoints/Evidencia%209.png?raw=true\" width=600 height=450 />\n",
    "\n",
    "- Control de versión ejercicio 10\n",
    "\n",
    "<img src=\"https://github.com/Jeffo007/Examen_Parcial-1-GBI6/blob/main/.ipynb_checkpoints/Evidencia%2010.png?raw=true\" width=600 height=450 />\n",
    "\n",
    "\n",
    "3. Cree un directorio de nombre ```data``` donde deben estar guardados: (i) la data utilizada y (ii) las capturas de pantalla de los ejercicios 1 al 3 y los git push del ejercicio 1 al 10 (en total debe tener 13 imágenes). \n",
    "4. Inserte aquí el enlace de su repositorio (válido para el ejercicio 6 y 7): [GitHub Repository: GBI6_ExamenParcial1](https://github.com/Jeffo007/Examen_Parcial-1-GBI6.git)"
   ]
  },
  {
   "cell_type": "markdown",
   "metadata": {},
   "source": [
    "# 3. INTRODUCCIÓN A PYTHON\n",
    "\n",
    "## Ejercicio 8\n",
    "\n",
    "En la data https://github.com/sap0408/mtcars/blob/master/mtcars.csv, \n",
    "seleccione los 10 primeros registros y cree una lista de nombre lista1."
   ]
  },
  {
   "cell_type": "code",
   "execution_count": 19,
   "metadata": {},
   "outputs": [
    {
     "name": "stdout",
     "output_type": "stream",
     "text": [
      "['Mazda RX4', 'Mazda RX4 Wag', 'Datsun 710', 'Hornet 4 Drive', 'Hornet Sportabout', 'Valiant', 'Duster 360', 'Merc 240D', 'Merc 230', 'Merc 280']\n",
      "['Mazda RX4', 'Mazda RX4 Wag', 'Datsun 710', 'Hornet 4 Drive', 'Hornet Sportabout', 'Valiant', 'Duster 360', 'Merc 240D', 'Merc 230', 'Merc 280', ['gbi6', 'bio1', 'ikiam']]\n",
      "gbi6\n",
      "['Datsun 710', 'Hornet 4 Drive', 'Hornet Sportabout']\n",
      "['Mazda RX4', 'Mazda RX4 Wag', 'Datsun 710', 'Hornet 4 Drive', 'Hornet Sportabout', 'Valiant', 'Duster 360', 'Merc 240D', 'Merc 230', 'Merc 280', ['gbi6', 'bio1', 'ikiam'], ['gbi6', 'bio1', 'ikiam']]\n",
      "12\n",
      "Hornet Sportabout\n",
      "Hornet 4 Drive\n"
     ]
    }
   ],
   "source": [
    "\n",
    "lista1=[\"Mazda RX4\",\"Mazda RX4 Wag\",\"Datsun 710\",\"Hornet 4 Drive\",\"Hornet Sportabout\",\"Valiant\",\"Duster 360\",\"Merc 240D\",\"Merc 230\",\"Merc 280\"]\n",
    "print(lista1)\n",
    "\n",
    "lista1.append([\"gbi6\", \"bio1\", \"ikiam\"])\n",
    "print(lista1)\n",
    "\n",
    "lista1[-1][-3]\n",
    "print(lista1[-1][-3])\n",
    "\n",
    "lista1[2:5]\n",
    "print(lista1[2:5])\n",
    "\n",
    "lista1.append([\"gbi6\", \"bio1\", \"ikiam\"])\n",
    "print(lista1)\n",
    "\n",
    "len(lista1)\n",
    "print(len(lista1))\n",
    "\n",
    "lista1[4]\n",
    "print(lista1[4])\n",
    "\n",
    "lista1[3]\n",
    "print(lista1[3])\n"
   ]
  },
  {
   "cell_type": "markdown",
   "metadata": {},
   "source": [
    "## Ejercicio 9\n",
    "\n",
    "Una lista de nombre lista1 que tenga a las 10 primeras letras del alfabeto.\n"
   ]
  },
  {
   "cell_type": "code",
   "execution_count": 27,
   "metadata": {},
   "outputs": [
    {
     "name": "stdout",
     "output_type": "stream",
     "text": [
      "['A', 'B', 'C', 'D', 'E', 'F', 'G', 'H', 'I', 'J']\n",
      "['C', 'D', 'E']\n",
      "11\n",
      "D\n",
      "ikiam\n"
     ]
    }
   ],
   "source": [
    "\n",
    "lista1=[\"A\",\"B\",\"C\",\"D\",\"E\",\"F\",\"G\",\"H\",\"I\",\"J\"]\n",
    "print(lista1)\n",
    "\n",
    "lista1[2:5]\n",
    "print(lista1[2:5])\n",
    "\n",
    "lista1.append([\"gbi6\", \"bio1\", \"ikiam\"])\n",
    "len(lista1)\n",
    "print(len(lista1))\n",
    "\n",
    "lista1[3]\n",
    "print(lista1[3])\n",
    "\n",
    "lista1.append([\"gbi6\", \"bio1\", \"ikiam\"])\n",
    "lista1[-1][-1]\n",
    "print(lista1[-1][-1])"
   ]
  },
  {
   "cell_type": "markdown",
   "metadata": {},
   "source": [
    "## Ejercicio 10\n",
    "\n",
    "Crear un diccionario de nombre dic_aminoacidos, donde se tenga la información de la tabla\n",
    "que se encuentra en http://www.russelllab.org/aas/aas.html. \n",
    "Utilice como \"key\" los valores de la columna \"AA\" y las columnas \"Hits\" y \"%Abundance\" como \"values\". \n",
    "Luego de crear el diccionario, extraiga los valores de \"key\" a una lista de nombre \"aminoacidos\"\n",
    "Extraiga los valores de \"value\" a una lista de nombre \"propiedades\""
   ]
  },
  {
   "cell_type": "code",
   "execution_count": 53,
   "metadata": {
    "scrolled": true
   },
   "outputs": [
    {
     "name": "stdout",
     "output_type": "stream",
     "text": [
      "{'Tpr': [1550, 1.34], 'Cys': [1905, 1.76], 'His': [1696, 2.96], 'Arg': [3093, 5.2], 'Met': [1102, 2.32], 'Tyr': [1525, 3.25], 'Gln': [1830, 3.96], 'Phe': [1616, 4, 12], 'Asp': [1691, 5.12], 'Pro': [1598, 5.0], 'Ala': [2018, 7.34], 'Asn': [1103, 4.57], 'Lys': [1366, 5.81], 'Glu': [1471, 6.22], 'Gly': [1386, 6.89], 'Thr': [1147, 5.85], 'Val': [1225, 6.48], 'Ile': [1033, 5.76], 'Ser': [1206, 7.38], 'Leu': [1127, 9.36]}\n",
      "dict_keys(['Tpr', 'Cys', 'His', 'Arg', 'Met', 'Tyr', 'Gln', 'Phe', 'Asp', 'Pro', 'Ala', 'Asn', 'Lys', 'Glu', 'Gly', 'Thr', 'Val', 'Ile', 'Ser', 'Leu'])\n",
      "dict_values([[1550, 1.34], [1905, 1.76], [1696, 2.96], [3093, 5.2], [1102, 2.32], [1525, 3.25], [1830, 3.96], [1616, 4, 12], [1691, 5.12], [1598, 5.0], [2018, 7.34], [1103, 4.57], [1366, 5.81], [1471, 6.22], [1386, 6.89], [1147, 5.85], [1225, 6.48], [1033, 5.76], [1206, 7.38], [1127, 9.36]])\n",
      "dict_values([[1550, 1.34], [1905, 1.76], [1696, 2.96], [3093, 5.2], [1102, 2.32], [1525, 3.25], [1830, 3.96], [1616, 4, 12], [1691, 5.12], [1598, 5.0], [2018, 7.34], [1103, 4.57], [1366, 5.81], [1471, 6.22], [1386, 6.89], [1147, 5.85], [1225, 6.48], [1033, 5.76], [1206, 7.38], [1127, 9.36]])\n"
     ]
    }
   ],
   "source": [
    "\n",
    "dic_aminoacidos= dict(\n",
    "    \n",
    "    Tpr= [1550 , 1.34], Cys= [1905 , 1.76], His= [1696 , 2.96], Arg= [3093 , 5.20],\n",
    "    Met= [1102 , 2.32], Tyr= [1525 , 3.25], Gln= [1830 , 3.96], Phe= [1616 , 4,12],\n",
    "    Asp= [1691 , 5.12], Pro= [1598 , 5.00], Ala= [2018 , 7.34], Asn= [1103 , 4.57],\n",
    "    Lys= [1366 , 5.81], Glu= [1471 , 6.22], Gly= [1386 , 6.89], Thr= [1147 , 5.85],\n",
    "    Val= [1225 , 6.48], Ile= [1033 , 5.76], Ser= [1206 , 7.38], Leu= [1127 , 9.36],\n",
    "\n",
    ")\n",
    "\n",
    "print(dic_aminoacidos)\n",
    "\n",
    "dic_aminoacidos.keys()\n",
    "\n",
    "aminoacidos=(dic_aminoacidos.keys())\n",
    "\n",
    "print(aminoacidos)\n",
    "\n",
    "dic_aminoacidos.values()\n",
    "\n",
    "propiedades=(dic_aminoacidos.values())\n",
    "\n",
    "print(propiedades)\n",
    "\n",
    "\n"
   ]
  }
 ],
 "metadata": {
  "kernelspec": {
   "display_name": "Python 3 (ipykernel)",
   "language": "python",
   "name": "python3"
  },
  "language_info": {
   "codemirror_mode": {
    "name": "ipython",
    "version": 3
   },
   "file_extension": ".py",
   "mimetype": "text/x-python",
   "name": "python",
   "nbconvert_exporter": "python",
   "pygments_lexer": "ipython3",
   "version": "3.9.7"
  },
  "latex_envs": {
   "LaTeX_envs_menu_present": true,
   "autoclose": false,
   "autocomplete": true,
   "bibliofile": "biblio.bib",
   "cite_by": "apalike",
   "current_citInitial": 1,
   "eqLabelWithNumbers": true,
   "eqNumInitial": 1,
   "hotkeys": {
    "equation": "Ctrl-E",
    "itemize": "Ctrl-I"
   },
   "labels_anchors": false,
   "latex_user_defs": false,
   "report_style_numbering": false,
   "user_envs_cfg": false
  },
  "toc": {
   "base_numbering": 1,
   "nav_menu": {},
   "number_sections": true,
   "sideBar": false,
   "skip_h1_title": false,
   "title_cell": "Table of Contents",
   "title_sidebar": "Contents",
   "toc_cell": false,
   "toc_position": {
    "height": "1152.67px",
    "left": "41px",
    "top": "110px",
    "width": "253.458px"
   },
   "toc_section_display": true,
   "toc_window_display": false
  },
  "varInspector": {
   "cols": {
    "lenName": 16,
    "lenType": 16,
    "lenVar": 40
   },
   "kernels_config": {
    "python": {
     "delete_cmd_postfix": "",
     "delete_cmd_prefix": "del ",
     "library": "var_list.py",
     "varRefreshCmd": "print(var_dic_list())"
    },
    "r": {
     "delete_cmd_postfix": ") ",
     "delete_cmd_prefix": "rm(",
     "library": "var_list.r",
     "varRefreshCmd": "cat(var_dic_list()) "
    }
   },
   "types_to_exclude": [
    "module",
    "function",
    "builtin_function_or_method",
    "instance",
    "_Feature"
   ],
   "window_display": false
  }
 },
 "nbformat": 4,
 "nbformat_minor": 4
}
